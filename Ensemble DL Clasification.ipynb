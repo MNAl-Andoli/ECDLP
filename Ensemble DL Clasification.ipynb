{
 "cells": [
  {
   "cell_type": "code",
   "execution_count": 1,
   "metadata": {},
   "outputs": [],
   "source": [
    "import numpy as np\n",
    "import scipy.sparse as sp\n",
    "from tensorflow import keras\n",
    "# first neural network with keras tutorial\n",
    "from numpy import loadtxt\n",
    "from tensorflow.keras.models import Sequential\n",
    "from tensorflow.keras.layers import Dense\n",
    "\n",
    "from tensorflow.keras.layers import Dense, Flatten\n",
    "import numpy as np\n",
    "import tensorflow as tf\n",
    "from sklearn.metrics import accuracy_score\n",
    "from sklearn.preprocessing import StandardScaler\n",
    "from tensorflow.keras.utils import to_categorical\n",
    "\n",
    "from keras.utils.vis_utils import plot_model\n",
    "from matplotlib import pyplot\n",
    "from statistics import mode\n",
    "import scipy"
   ]
  },
  {
   "cell_type": "code",
   "execution_count": 2,
   "metadata": {},
   "outputs": [],
   "source": [
    "x_train=np.load(\"X_train.npy\")\n",
    "#===normalize x_train. z-score\n",
    "scaler=StandardScaler()\n",
    "scaler.fit(x_train)\n",
    "x_train=scaler.transform(x_train)\n",
    "#===\n",
    "y_train=np.load(\"y_train.npy\")\n"
   ]
  },
  {
   "cell_type": "code",
   "execution_count": 3,
   "metadata": {},
   "outputs": [],
   "source": [
    "def model1():\n",
    "    \n",
    "    #create the model\n",
    "    dim=len(x_train[0])\n",
    "    # define the keras model\n",
    "    model = Sequential()\n",
    "    model.add(Dense(128, input_dim=dim, activation='relu'))\n",
    "    model.add(Dense(64, activation='relu'))\n",
    "    model.add(Dense(1, activation='sigmoid'))\n",
    "    # compile the keras model\n",
    "    model.compile(loss='binary_crossentropy', optimizer='adam', metrics=['accuracy'])\n",
    "    \n",
    "    return model\n",
    "\n",
    "def model2():\n",
    "    \n",
    "    #create the model\n",
    "    dim=len(x_train[0])\n",
    "    # define the keras model\n",
    "    model = Sequential()\n",
    "    model.add(Dense(128, input_dim=dim, activation='relu'))\n",
    "    model.add(Dense(64, activation='relu'))\n",
    "    model.add(Dense(1, activation='sigmoid'))\n",
    "    # compile the keras model\n",
    "    model.compile(loss='binary_crossentropy', optimizer='adam', metrics=['accuracy'])\n",
    "    \n",
    "    return model\n",
    "\n",
    "def model3():\n",
    "    \n",
    "    #create the model\n",
    "    dim=len(x_train[0])\n",
    "    # define the keras model\n",
    "    model = Sequential()\n",
    "    model.add(Dense(128, input_dim=dim, activation='relu'))\n",
    "    model.add(Dense(64, activation='relu'))\n",
    "    model.add(Dense(1, activation='softmax'))\n",
    "    # compile the keras model\n",
    "    model.compile(loss='binary_crossentropy', optimizer='adam', metrics=['accuracy'])\n",
    "    \n",
    "    return model\n",
    "\n",
    "def model4():\n",
    "    \n",
    "    #create the model\n",
    "    dim=len(x_train[0])\n",
    "    # define the keras model\n",
    "    model = Sequential()\n",
    "    model.add(Dense(128, input_dim=dim, activation='relu'))\n",
    "    model.add(Dense(64, activation='relu'))\n",
    "    model.add(Dense(1, activation='softmax'))\n",
    "    # compile the keras model\n",
    "    model.compile(loss='binary_crossentropy', optimizer='adam', metrics=['accuracy'])\n",
    "    \n",
    "    return model\n",
    "\n",
    "def model5():\n",
    "    \n",
    "    #create the model\n",
    "    dim=len(x_train[0])\n",
    "    # define the keras model\n",
    "    model = Sequential()\n",
    "    model.add(Dense(128, input_dim=dim, activation='relu'))\n",
    "    model.add(Dense(64, activation='relu'))\n",
    "    model.add(Dense(1, activation='sigmoid'))\n",
    "    # compile the keras model\n",
    "    model.compile(loss='binary_crossentropy', optimizer='adam', metrics=['accuracy'])\n",
    "    \n",
    "    return model"
   ]
  },
  {
   "cell_type": "code",
   "execution_count": 4,
   "metadata": {},
   "outputs": [
    {
     "data": {
      "text/plain": [
       "'print(\"My Custom model1 Network:\")\\nplot_model(model1(),to_file=\\'custom-cnn.png\\', show_shapes=True, show_layer_names=True)'"
      ]
     },
     "execution_count": 4,
     "metadata": {},
     "output_type": "execute_result"
    }
   ],
   "source": [
    "'''print(\"My Custom model1 Network:\")\n",
    "plot_model(model1(),to_file='custom-cnn.png', show_shapes=True, show_layer_names=True)'''"
   ]
  },
  {
   "cell_type": "code",
   "execution_count": 5,
   "metadata": {},
   "outputs": [],
   "source": [
    "model = []\n",
    "model.append(model1())\n",
    "model.append(model2())\n",
    "model.append(model3())\n",
    "model.append(model4())\n",
    "model.append(model5())\n",
    "\n",
    "# You can add more models like inception, vgg-16/vgg-19 etc. to improve overall accuracy during ensemble"
   ]
  },
  {
   "cell_type": "code",
   "execution_count": 6,
   "metadata": {},
   "outputs": [
    {
     "name": "stdout",
     "output_type": "stream",
     "text": [
      "Epoch 1/2\n",
      "313/313 [==============================] - 1s 2ms/step - loss: 0.1314 - accuracy: 0.9551\n",
      "Epoch 2/2\n",
      "313/313 [==============================] - 1s 2ms/step - loss: 0.0134 - accuracy: 0.9970\n",
      "2500/2500 [==============================] - 2s 806us/step - loss: 0.0074 - accuracy: 0.9988\n",
      "Accuracy: 99.88\n",
      "\n",
      "\n",
      " model1 finish..............\n",
      "\n",
      "\n",
      "Epoch 1/2\n",
      "313/313 [==============================] - 1s 2ms/step - loss: 0.1362 - accuracy: 0.9511\n",
      "Epoch 2/2\n",
      "313/313 [==============================] - 1s 3ms/step - loss: 0.0148 - accuracy: 0.9970\n",
      "2500/2500 [==============================] - 2s 804us/step - loss: 0.0083 - accuracy: 0.9984\n",
      "Accuracy: 99.84\n",
      "\n",
      "\n",
      " model1 finish..............\n",
      "\n",
      "\n",
      "Epoch 1/2\n",
      "313/313 [==============================] - 1s 2ms/step - loss: 0.1283 - accuracy: 0.5004\n",
      "Epoch 2/2\n",
      "313/313 [==============================] - 1s 2ms/step - loss: 0.0147 - accuracy: 0.5004\n",
      "2500/2500 [==============================] - 2s 752us/step - loss: 0.0092 - accuracy: 0.5004\n",
      "Accuracy: 50.04\n",
      "\n",
      "\n",
      " model1 finish..............\n",
      "\n",
      "\n",
      "Epoch 1/2\n",
      "313/313 [==============================] - 1s 2ms/step - loss: 0.1439 - accuracy: 0.5004\n",
      "Epoch 2/2\n",
      "313/313 [==============================] - 1s 2ms/step - loss: 0.0151 - accuracy: 0.5004\n",
      "2500/2500 [==============================] - 2s 769us/step - loss: 0.0086 - accuracy: 0.5004\n",
      "Accuracy: 50.04\n",
      "\n",
      "\n",
      " model1 finish..............\n",
      "\n",
      "\n",
      "Epoch 1/2\n",
      "313/313 [==============================] - 1s 2ms/step - loss: 0.1411 - accuracy: 0.9500\n",
      "Epoch 2/2\n",
      "313/313 [==============================] - 1s 2ms/step - loss: 0.0151 - accuracy: 0.9964\n",
      "2500/2500 [==============================] - 2s 753us/step - loss: 0.0085 - accuracy: 0.9981\n",
      "Accuracy: 99.81\n",
      "\n",
      "\n",
      " model1 finish..............\n",
      "\n",
      "\n"
     ]
    }
   ],
   "source": [
    "models_train = []\n",
    "for i in range(len(model)):\n",
    "    model[i].fit(x_train, y_train, epochs=2, batch_size=256)\n",
    "    _, accuracy = model[i].evaluate(x_train, y_train)\n",
    "    print('Accuracy: %.2f' % (accuracy*100))\n",
    "\n",
    "    print(\"\\n\\n model1 finish..............\\n\\n\")\n",
    "    model[i].save('my_model' + str(i+1)+ '.h5')\n",
    "    models_train.append(model[i])"
   ]
  },
  {
   "cell_type": "code",
   "execution_count": 7,
   "metadata": {},
   "outputs": [],
   "source": [
    "#load model\n",
    "loaded_models=[]\n",
    "for i in range(len(model)):\n",
    "    loaded_model=keras.models.load_model(\"my_model\" + str(i+1) + \".h5\")\n",
    "    loaded_models.append(loaded_model)\n",
    "    loaded_models[i].compile(loss='binary_crossentropy', optimizer='adam', metrics=['accuracy'])\n"
   ]
  },
  {
   "cell_type": "code",
   "execution_count": 8,
   "metadata": {},
   "outputs": [],
   "source": [
    "# make an ensemble prediction for multi-class classification\n",
    "def ensemble_predictions(models, testX):\n",
    "    labels = []    \n",
    "    for m in models:\n",
    "        predicts = (m.predict(x_test) > 0.5).astype(\"int32\")\n",
    "        #redicts=[list(i) for i in predicts]\n",
    "        labels.append(predicts)\n",
    "\n",
    "    # Ensemble with voting\n",
    "    labels = np.array(labels)\n",
    "    labels = np.transpose(labels)\n",
    "\n",
    "    labels = scipy.stats.mode(labels, 2)[0]\n",
    "\n",
    "    labels = np.squeeze(labels)\n",
    "    \n",
    "    return labels\n"
   ]
  },
  {
   "cell_type": "code",
   "execution_count": 9,
   "metadata": {},
   "outputs": [
    {
     "name": "stdout",
     "output_type": "stream",
     "text": [
      "625/625 [==============================] - 1s 748us/step - loss: 0.0066 - accuracy: 0.9992\n",
      "Accuracy: 99.92\n",
      "625/625 [==============================] - 1s 760us/step - loss: 0.0082 - accuracy: 0.9987\n",
      "Accuracy: 99.87\n",
      "625/625 [==============================] - 1s 787us/step - loss: 0.0091 - accuracy: 0.4985\n",
      "Accuracy: 49.85\n",
      "625/625 [==============================] - 1s 743us/step - loss: 0.0086 - accuracy: 0.4985\n",
      "Accuracy: 49.85\n",
      "625/625 [==============================] - 1s 803us/step - loss: 0.0088 - accuracy: 0.9981\n",
      "Accuracy: 99.81\n",
      "Ensemble accuracy:  0.99815\n"
     ]
    }
   ],
   "source": [
    "x_test=np.load(\"X_test.npy\")\n",
    "\n",
    "#====z_score normalization\n",
    "scaler2=StandardScaler()\n",
    "scaler2.fit(x_test)\n",
    "x_test=scaler2.transform(x_test)\n",
    "#====\n",
    "y_test=np.load(\"y_test.npy\")\n",
    "\n",
    "\n",
    "predict_labels=ensemble_predictions(loaded_models, x_test)\n",
    "Enemble_accuracy = accuracy_score(y_test,predict_labels)\n",
    "\n",
    "for i in range(len(loaded_models)):\n",
    "    _, accuracy2 = loaded_models[i].evaluate(x_test, y_test)\n",
    "    print('Accuracy: %.2f' % (accuracy2*100))\n",
    "print (\"Ensemble accuracy: \", Enemble_accuracy)"
   ]
  }
 ],
 "metadata": {
  "kernelspec": {
   "display_name": "Python 3 (ipykernel)",
   "language": "python",
   "name": "python3"
  },
  "language_info": {
   "codemirror_mode": {
    "name": "ipython",
    "version": 3
   },
   "file_extension": ".py",
   "mimetype": "text/x-python",
   "name": "python",
   "nbconvert_exporter": "python",
   "pygments_lexer": "ipython3",
   "version": "3.10.9"
  }
 },
 "nbformat": 4,
 "nbformat_minor": 4
}
